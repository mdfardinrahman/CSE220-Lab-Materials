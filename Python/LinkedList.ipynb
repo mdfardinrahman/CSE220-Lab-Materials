{
  "cells": [
    {
      "cell_type": "markdown",
      "metadata": {
        "id": "NHJxwdmzoXzL"
      },
      "source": [
        "#Creating Node class for LinkedList"
      ]
    },
    {
      "cell_type": "code",
      "execution_count": 1,
      "metadata": {
        "id": "7Vb7ey3oowSn"
      },
      "outputs": [],
      "source": [
        "class NodeCreate:\n",
        "  def __init__(self, value):\n",
        "     self.value = value\n",
        "     self.next = None\n"
      ]
    },
    {
      "cell_type": "markdown",
      "metadata": {
        "id": "dDednIBmqNvY"
      },
      "source": [
        "# Print LinkedList"
      ]
    },
    {
      "cell_type": "code",
      "execution_count": 2,
      "metadata": {
        "id": "V-5js8EbqLXt"
      },
      "outputs": [],
      "source": [
        "def PrintLinkedList(current):\n",
        "  while current != None:\n",
        "    print(current.value)\n",
        "    current = current.next\n",
        "\n"
      ]
    },
    {
      "cell_type": "markdown",
      "metadata": {
        "id": "hVE4PmslrIZY"
      },
      "source": [
        "Creating Linked List"
      ]
    },
    {
      "cell_type": "code",
      "execution_count": 5,
      "metadata": {
        "colab": {
          "base_uri": "https://localhost:8080/"
        },
        "id": "cjxRDL0ZoTWe",
        "outputId": "0616ffad-9b8d-468c-922b-9f0d2b804d00"
      },
      "outputs": [
        {
          "name": "stdout",
          "output_type": "stream",
          "text": [
            "<__main__.NodeCreate object at 0x1213aeb50>\n",
            "5\n",
            "7\n",
            "2\n",
            "12\n"
          ]
        }
      ],
      "source": [
        "def LinkedLinkCreate(array_take):\n",
        "  head = NodeCreate(array_take[0])\n",
        "  tail = head\n",
        "  for i in range(1, len(array_take)):\n",
        "    newNode = NodeCreate(array_take[i])\n",
        "    tail.next = newNode\n",
        "    tail = newNode\n",
        "\n",
        "  return head\n",
        "\n",
        "\n",
        "first_node = LinkedLinkCreate([5, 7, 2, 12])\n",
        "\n",
        "\n",
        "print(first_node)\n",
        "PrintLinkedList(first_node)"
      ]
    },
    {
      "cell_type": "markdown",
      "metadata": {
        "id": "FgHgCCM2rgp2"
      },
      "source": [
        "Count length of LinkedList\n"
      ]
    },
    {
      "cell_type": "code",
      "execution_count": 6,
      "metadata": {
        "id": "oNjRrytErgG9"
      },
      "outputs": [],
      "source": [
        "def CountLength(current):\n",
        "  c = 0\n",
        "  while current != None:\n",
        "    c+=1\n",
        "    current = current.next\n",
        "  return c"
      ]
    },
    {
      "cell_type": "markdown",
      "metadata": {
        "id": "AcVTU7y5rT2-"
      },
      "source": [
        "Print for nth times\n"
      ]
    },
    {
      "cell_type": "code",
      "execution_count": 7,
      "metadata": {
        "id": "pHAvhXQLplyG"
      },
      "outputs": [],
      "source": [
        "def PrintN_times(current,n):\n",
        "  length_of_linked_list = CountLength(current)\n",
        "\n",
        "  if n < length_of_linked_list:\n",
        "    while n != 0:\n",
        "       print(current.value)\n",
        "       current = current.next\n",
        "       n-=1"
      ]
    },
    {
      "cell_type": "code",
      "execution_count": 8,
      "metadata": {
        "colab": {
          "base_uri": "https://localhost:8080/"
        },
        "id": "Roum5ixqsJFb",
        "outputId": "d1a80462-1e47-463e-8ef7-db66ade9f689"
      },
      "outputs": [
        {
          "name": "stdout",
          "output_type": "stream",
          "text": [
            "5\n",
            "7\n",
            "2\n"
          ]
        }
      ],
      "source": [
        "PrintN_times(first_node, 3)"
      ]
    },
    {
      "cell_type": "code",
      "execution_count": null,
      "metadata": {
        "id": "nlWtmlMYsMGS"
      },
      "outputs": [],
      "source": []
    }
  ],
  "metadata": {
    "colab": {
      "provenance": []
    },
    "kernelspec": {
      "display_name": "Python 3",
      "name": "python3"
    },
    "language_info": {
      "codemirror_mode": {
        "name": "ipython",
        "version": 3
      },
      "file_extension": ".py",
      "mimetype": "text/x-python",
      "name": "python",
      "nbconvert_exporter": "python",
      "pygments_lexer": "ipython3",
      "version": "3.13.0"
    }
  },
  "nbformat": 4,
  "nbformat_minor": 0
}
